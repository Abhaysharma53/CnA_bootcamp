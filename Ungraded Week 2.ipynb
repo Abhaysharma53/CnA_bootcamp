{
 "cells": [
  {
   "cell_type": "markdown",
   "metadata": {
    "id": "5vJT2o70xl7c"
   },
   "source": [
    "# WEEK 2 Ungraded Assignment"
   ]
  },
  {
   "cell_type": "code",
   "execution_count": 1,
   "metadata": {
    "id": "q5RCysOH9jUp"
   },
   "outputs": [],
   "source": [
    "import numpy as np\n",
    "import pandas as pd\n",
    "import matplotlib.pyplot as plt\n",
    "import seaborn as sns\n",
    "pd.set_option('display.max_columns', None)"
   ]
  },
  {
   "cell_type": "markdown",
   "metadata": {
    "id": "rVRV4pYw9jUt"
   },
   "source": [
    "It is highly recommended to read the documentation before implementing any alogorithm.\n",
    "\n",
    "LINEAR REGRESSION : \n",
    "https://scikit-learn.org/stable/modules/generated/sklearn.linear_model.LinearRegression.html <br>\n",
    "LOGISTIC REGRESSION :\n",
    "https://scikit-learn.org/stable/modules/generated/sklearn.linear_model.LogisticRegression.html<br>\n",
    "\n",
    "METRICS:<br>\n",
    "Mean Squared Error : http://scikit-learn.org/stable/modules/generated/sklearn.metrics.mean_squared_error.html<br>\n",
    "Mean Absolute Error : http://scikit-learn.org/stable/modules/generated/sklearn.metrics.mean_absolute_error.html<br>\n",
    "Accuracy Score : https://scikit-learn.org/stable/modules/generated/sklearn.metrics.accuracy_score.html<br>"
   ]
  },
  {
   "cell_type": "markdown",
   "metadata": {
    "id": "_lclLEtp9jUu"
   },
   "source": [
    "####  IMPORTING THE DATA"
   ]
  },
  {
   "cell_type": "code",
   "execution_count": 2,
   "metadata": {
    "id": "JRV20Tv-9jUu"
   },
   "outputs": [],
   "source": [
    "# Import the file AS 'data'\n",
    "# Start code\n",
    "data = pd.read_csv(\"cars_data.csv\")\n",
    "\n",
    "# End code"
   ]
  },
  {
   "cell_type": "code",
   "execution_count": 3,
   "metadata": {
    "id": "fmude2rPzgyy",
    "scrolled": false
   },
   "outputs": [
    {
     "data": {
      "text/html": [
       "<div>\n",
       "<style scoped>\n",
       "    .dataframe tbody tr th:only-of-type {\n",
       "        vertical-align: middle;\n",
       "    }\n",
       "\n",
       "    .dataframe tbody tr th {\n",
       "        vertical-align: top;\n",
       "    }\n",
       "\n",
       "    .dataframe thead th {\n",
       "        text-align: right;\n",
       "    }\n",
       "</style>\n",
       "<table border=\"1\" class=\"dataframe\">\n",
       "  <thead>\n",
       "    <tr style=\"text-align: right;\">\n",
       "      <th></th>\n",
       "      <th>price</th>\n",
       "      <th>year</th>\n",
       "      <th>mileage</th>\n",
       "      <th>AGE_IN_YEARS</th>\n",
       "      <th>chevrolet</th>\n",
       "      <th>dodge</th>\n",
       "      <th>gmc</th>\n",
       "      <th>jeep</th>\n",
       "      <th>nissan</th>\n",
       "      <th>salvage insurance</th>\n",
       "      <th>black</th>\n",
       "      <th>blue</th>\n",
       "      <th>gray</th>\n",
       "      <th>no_color</th>\n",
       "      <th>silver</th>\n",
       "      <th>white</th>\n",
       "      <th>Goa</th>\n",
       "      <th>MP</th>\n",
       "      <th>Maharashtra</th>\n",
       "      <th>UP</th>\n",
       "    </tr>\n",
       "  </thead>\n",
       "  <tbody>\n",
       "    <tr>\n",
       "      <th>0</th>\n",
       "      <td>2899</td>\n",
       "      <td>2011</td>\n",
       "      <td>190552.0</td>\n",
       "      <td>3</td>\n",
       "      <td>0</td>\n",
       "      <td>0</td>\n",
       "      <td>0</td>\n",
       "      <td>0</td>\n",
       "      <td>0</td>\n",
       "      <td>0</td>\n",
       "      <td>0</td>\n",
       "      <td>0</td>\n",
       "      <td>0</td>\n",
       "      <td>0</td>\n",
       "      <td>1</td>\n",
       "      <td>0</td>\n",
       "      <td>0</td>\n",
       "      <td>0</td>\n",
       "      <td>0</td>\n",
       "      <td>1</td>\n",
       "    </tr>\n",
       "    <tr>\n",
       "      <th>1</th>\n",
       "      <td>5350</td>\n",
       "      <td>2018</td>\n",
       "      <td>39590.0</td>\n",
       "      <td>2</td>\n",
       "      <td>0</td>\n",
       "      <td>1</td>\n",
       "      <td>0</td>\n",
       "      <td>0</td>\n",
       "      <td>0</td>\n",
       "      <td>0</td>\n",
       "      <td>0</td>\n",
       "      <td>0</td>\n",
       "      <td>0</td>\n",
       "      <td>0</td>\n",
       "      <td>1</td>\n",
       "      <td>0</td>\n",
       "      <td>0</td>\n",
       "      <td>1</td>\n",
       "      <td>0</td>\n",
       "      <td>0</td>\n",
       "    </tr>\n",
       "    <tr>\n",
       "      <th>2</th>\n",
       "      <td>25000</td>\n",
       "      <td>2014</td>\n",
       "      <td>64146.0</td>\n",
       "      <td>2</td>\n",
       "      <td>0</td>\n",
       "      <td>0</td>\n",
       "      <td>0</td>\n",
       "      <td>0</td>\n",
       "      <td>0</td>\n",
       "      <td>0</td>\n",
       "      <td>0</td>\n",
       "      <td>1</td>\n",
       "      <td>0</td>\n",
       "      <td>0</td>\n",
       "      <td>0</td>\n",
       "      <td>0</td>\n",
       "      <td>0</td>\n",
       "      <td>0</td>\n",
       "      <td>0</td>\n",
       "      <td>1</td>\n",
       "    </tr>\n",
       "    <tr>\n",
       "      <th>3</th>\n",
       "      <td>27700</td>\n",
       "      <td>2018</td>\n",
       "      <td>6654.0</td>\n",
       "      <td>3</td>\n",
       "      <td>1</td>\n",
       "      <td>0</td>\n",
       "      <td>0</td>\n",
       "      <td>0</td>\n",
       "      <td>0</td>\n",
       "      <td>0</td>\n",
       "      <td>0</td>\n",
       "      <td>0</td>\n",
       "      <td>0</td>\n",
       "      <td>0</td>\n",
       "      <td>0</td>\n",
       "      <td>0</td>\n",
       "      <td>0</td>\n",
       "      <td>0</td>\n",
       "      <td>1</td>\n",
       "      <td>0</td>\n",
       "    </tr>\n",
       "    <tr>\n",
       "      <th>4</th>\n",
       "      <td>5700</td>\n",
       "      <td>2018</td>\n",
       "      <td>45561.0</td>\n",
       "      <td>1</td>\n",
       "      <td>0</td>\n",
       "      <td>1</td>\n",
       "      <td>0</td>\n",
       "      <td>0</td>\n",
       "      <td>0</td>\n",
       "      <td>0</td>\n",
       "      <td>0</td>\n",
       "      <td>0</td>\n",
       "      <td>0</td>\n",
       "      <td>0</td>\n",
       "      <td>0</td>\n",
       "      <td>1</td>\n",
       "      <td>0</td>\n",
       "      <td>0</td>\n",
       "      <td>0</td>\n",
       "      <td>1</td>\n",
       "    </tr>\n",
       "  </tbody>\n",
       "</table>\n",
       "</div>"
      ],
      "text/plain": [
       "   price  year   mileage  AGE_IN_YEARS  chevrolet  dodge  gmc  jeep  nissan  \\\n",
       "0   2899  2011  190552.0             3          0      0    0     0       0   \n",
       "1   5350  2018   39590.0             2          0      1    0     0       0   \n",
       "2  25000  2014   64146.0             2          0      0    0     0       0   \n",
       "3  27700  2018    6654.0             3          1      0    0     0       0   \n",
       "4   5700  2018   45561.0             1          0      1    0     0       0   \n",
       "\n",
       "   salvage insurance  black  blue  gray  no_color  silver  white  Goa  MP  \\\n",
       "0                  0      0     0     0         0       1      0    0   0   \n",
       "1                  0      0     0     0         0       1      0    0   1   \n",
       "2                  0      0     1     0         0       0      0    0   0   \n",
       "3                  0      0     0     0         0       0      0    0   0   \n",
       "4                  0      0     0     0         0       0      1    0   0   \n",
       "\n",
       "   Maharashtra  UP  \n",
       "0            0   1  \n",
       "1            0   0  \n",
       "2            0   1  \n",
       "3            1   0  \n",
       "4            0   1  "
      ]
     },
     "execution_count": 3,
     "metadata": {},
     "output_type": "execute_result"
    }
   ],
   "source": [
    "# VIEWING THE DATA ONCE ( Use .head() )\n",
    "# Start code\n",
    "data.head()\n",
    "# End code"
   ]
  },
  {
   "cell_type": "code",
   "execution_count": 4,
   "metadata": {},
   "outputs": [
    {
     "data": {
      "text/plain": [
       "(2153, 20)"
      ]
     },
     "execution_count": 4,
     "metadata": {},
     "output_type": "execute_result"
    }
   ],
   "source": [
    "data.shape"
   ]
  },
  {
   "cell_type": "code",
   "execution_count": 5,
   "metadata": {},
   "outputs": [
    {
     "data": {
      "text/plain": [
       "price                  int64\n",
       "year                   int64\n",
       "mileage              float64\n",
       "AGE_IN_YEARS           int64\n",
       "chevrolet              int64\n",
       "dodge                  int64\n",
       "gmc                    int64\n",
       "jeep                   int64\n",
       "nissan                 int64\n",
       "salvage insurance      int64\n",
       "black                  int64\n",
       "blue                   int64\n",
       "gray                   int64\n",
       "no_color               int64\n",
       "silver                 int64\n",
       "white                  int64\n",
       "Goa                    int64\n",
       "MP                     int64\n",
       "Maharashtra            int64\n",
       "UP                     int64\n",
       "dtype: object"
      ]
     },
     "execution_count": 5,
     "metadata": {},
     "output_type": "execute_result"
    }
   ],
   "source": [
    "data.dtypes"
   ]
  },
  {
   "cell_type": "code",
   "execution_count": 6,
   "metadata": {},
   "outputs": [
    {
     "name": "stdout",
     "output_type": "stream",
     "text": [
      "<class 'pandas.core.frame.DataFrame'>\n",
      "RangeIndex: 2153 entries, 0 to 2152\n",
      "Data columns (total 20 columns):\n",
      " #   Column             Non-Null Count  Dtype  \n",
      "---  ------             --------------  -----  \n",
      " 0   price              2153 non-null   int64  \n",
      " 1   year               2153 non-null   int64  \n",
      " 2   mileage            2153 non-null   float64\n",
      " 3   AGE_IN_YEARS       2153 non-null   int64  \n",
      " 4   chevrolet          2153 non-null   int64  \n",
      " 5   dodge              2153 non-null   int64  \n",
      " 6   gmc                2153 non-null   int64  \n",
      " 7   jeep               2153 non-null   int64  \n",
      " 8   nissan             2153 non-null   int64  \n",
      " 9   salvage insurance  2153 non-null   int64  \n",
      " 10  black              2153 non-null   int64  \n",
      " 11  blue               2153 non-null   int64  \n",
      " 12  gray               2153 non-null   int64  \n",
      " 13  no_color           2153 non-null   int64  \n",
      " 14  silver             2153 non-null   int64  \n",
      " 15  white              2153 non-null   int64  \n",
      " 16  Goa                2153 non-null   int64  \n",
      " 17  MP                 2153 non-null   int64  \n",
      " 18  Maharashtra        2153 non-null   int64  \n",
      " 19  UP                 2153 non-null   int64  \n",
      "dtypes: float64(1), int64(19)\n",
      "memory usage: 336.5 KB\n"
     ]
    }
   ],
   "source": [
    "data.info()\n",
    "#no missing value"
   ]
  },
  {
   "cell_type": "code",
   "execution_count": 7,
   "metadata": {},
   "outputs": [
    {
     "data": {
      "text/html": [
       "<div>\n",
       "<style scoped>\n",
       "    .dataframe tbody tr th:only-of-type {\n",
       "        vertical-align: middle;\n",
       "    }\n",
       "\n",
       "    .dataframe tbody tr th {\n",
       "        vertical-align: top;\n",
       "    }\n",
       "\n",
       "    .dataframe thead th {\n",
       "        text-align: right;\n",
       "    }\n",
       "</style>\n",
       "<table border=\"1\" class=\"dataframe\">\n",
       "  <thead>\n",
       "    <tr style=\"text-align: right;\">\n",
       "      <th></th>\n",
       "      <th>price</th>\n",
       "      <th>year</th>\n",
       "      <th>mileage</th>\n",
       "      <th>AGE_IN_YEARS</th>\n",
       "      <th>chevrolet</th>\n",
       "      <th>dodge</th>\n",
       "      <th>gmc</th>\n",
       "      <th>jeep</th>\n",
       "      <th>nissan</th>\n",
       "      <th>salvage insurance</th>\n",
       "      <th>black</th>\n",
       "      <th>blue</th>\n",
       "      <th>gray</th>\n",
       "      <th>no_color</th>\n",
       "      <th>silver</th>\n",
       "      <th>white</th>\n",
       "      <th>Goa</th>\n",
       "      <th>MP</th>\n",
       "      <th>Maharashtra</th>\n",
       "      <th>UP</th>\n",
       "    </tr>\n",
       "  </thead>\n",
       "  <tbody>\n",
       "    <tr>\n",
       "      <th>count</th>\n",
       "      <td>2153.000000</td>\n",
       "      <td>2153.000000</td>\n",
       "      <td>2153.000000</td>\n",
       "      <td>2153.000000</td>\n",
       "      <td>2153.000000</td>\n",
       "      <td>2153.000000</td>\n",
       "      <td>2153.000000</td>\n",
       "      <td>2153.000000</td>\n",
       "      <td>2153.000000</td>\n",
       "      <td>2153.000000</td>\n",
       "      <td>2153.000000</td>\n",
       "      <td>2153.000000</td>\n",
       "      <td>2153.000000</td>\n",
       "      <td>2153.000000</td>\n",
       "      <td>2153.000000</td>\n",
       "      <td>2153.000000</td>\n",
       "      <td>2153.000000</td>\n",
       "      <td>2153.000000</td>\n",
       "      <td>2153.00000</td>\n",
       "      <td>2153.000000</td>\n",
       "    </tr>\n",
       "    <tr>\n",
       "      <th>mean</th>\n",
       "      <td>19298.254529</td>\n",
       "      <td>2017.070135</td>\n",
       "      <td>48829.217836</td>\n",
       "      <td>2.432420</td>\n",
       "      <td>0.122620</td>\n",
       "      <td>0.180678</td>\n",
       "      <td>0.018579</td>\n",
       "      <td>0.010218</td>\n",
       "      <td>0.138412</td>\n",
       "      <td>0.044124</td>\n",
       "      <td>0.222945</td>\n",
       "      <td>0.061310</td>\n",
       "      <td>0.165815</td>\n",
       "      <td>0.026010</td>\n",
       "      <td>0.130516</td>\n",
       "      <td>0.312123</td>\n",
       "      <td>0.191825</td>\n",
       "      <td>0.210404</td>\n",
       "      <td>0.19647</td>\n",
       "      <td>0.212726</td>\n",
       "    </tr>\n",
       "    <tr>\n",
       "      <th>std</th>\n",
       "      <td>11904.200099</td>\n",
       "      <td>2.859018</td>\n",
       "      <td>47495.898243</td>\n",
       "      <td>1.102215</td>\n",
       "      <td>0.328076</td>\n",
       "      <td>0.384841</td>\n",
       "      <td>0.135063</td>\n",
       "      <td>0.100591</td>\n",
       "      <td>0.345412</td>\n",
       "      <td>0.205419</td>\n",
       "      <td>0.416318</td>\n",
       "      <td>0.239953</td>\n",
       "      <td>0.372001</td>\n",
       "      <td>0.159203</td>\n",
       "      <td>0.336948</td>\n",
       "      <td>0.463467</td>\n",
       "      <td>0.393828</td>\n",
       "      <td>0.407690</td>\n",
       "      <td>0.39742</td>\n",
       "      <td>0.409331</td>\n",
       "    </tr>\n",
       "    <tr>\n",
       "      <th>min</th>\n",
       "      <td>25.000000</td>\n",
       "      <td>1973.000000</td>\n",
       "      <td>0.000000</td>\n",
       "      <td>1.000000</td>\n",
       "      <td>0.000000</td>\n",
       "      <td>0.000000</td>\n",
       "      <td>0.000000</td>\n",
       "      <td>0.000000</td>\n",
       "      <td>0.000000</td>\n",
       "      <td>0.000000</td>\n",
       "      <td>0.000000</td>\n",
       "      <td>0.000000</td>\n",
       "      <td>0.000000</td>\n",
       "      <td>0.000000</td>\n",
       "      <td>0.000000</td>\n",
       "      <td>0.000000</td>\n",
       "      <td>0.000000</td>\n",
       "      <td>0.000000</td>\n",
       "      <td>0.00000</td>\n",
       "      <td>0.000000</td>\n",
       "    </tr>\n",
       "    <tr>\n",
       "      <th>25%</th>\n",
       "      <td>10800.000000</td>\n",
       "      <td>2016.000000</td>\n",
       "      <td>21034.000000</td>\n",
       "      <td>1.000000</td>\n",
       "      <td>0.000000</td>\n",
       "      <td>0.000000</td>\n",
       "      <td>0.000000</td>\n",
       "      <td>0.000000</td>\n",
       "      <td>0.000000</td>\n",
       "      <td>0.000000</td>\n",
       "      <td>0.000000</td>\n",
       "      <td>0.000000</td>\n",
       "      <td>0.000000</td>\n",
       "      <td>0.000000</td>\n",
       "      <td>0.000000</td>\n",
       "      <td>0.000000</td>\n",
       "      <td>0.000000</td>\n",
       "      <td>0.000000</td>\n",
       "      <td>0.00000</td>\n",
       "      <td>0.000000</td>\n",
       "    </tr>\n",
       "    <tr>\n",
       "      <th>50%</th>\n",
       "      <td>17300.000000</td>\n",
       "      <td>2018.000000</td>\n",
       "      <td>34922.000000</td>\n",
       "      <td>2.000000</td>\n",
       "      <td>0.000000</td>\n",
       "      <td>0.000000</td>\n",
       "      <td>0.000000</td>\n",
       "      <td>0.000000</td>\n",
       "      <td>0.000000</td>\n",
       "      <td>0.000000</td>\n",
       "      <td>0.000000</td>\n",
       "      <td>0.000000</td>\n",
       "      <td>0.000000</td>\n",
       "      <td>0.000000</td>\n",
       "      <td>0.000000</td>\n",
       "      <td>0.000000</td>\n",
       "      <td>0.000000</td>\n",
       "      <td>0.000000</td>\n",
       "      <td>0.00000</td>\n",
       "      <td>0.000000</td>\n",
       "    </tr>\n",
       "    <tr>\n",
       "      <th>75%</th>\n",
       "      <td>26000.000000</td>\n",
       "      <td>2019.000000</td>\n",
       "      <td>59798.000000</td>\n",
       "      <td>3.000000</td>\n",
       "      <td>0.000000</td>\n",
       "      <td>0.000000</td>\n",
       "      <td>0.000000</td>\n",
       "      <td>0.000000</td>\n",
       "      <td>0.000000</td>\n",
       "      <td>0.000000</td>\n",
       "      <td>0.000000</td>\n",
       "      <td>0.000000</td>\n",
       "      <td>0.000000</td>\n",
       "      <td>0.000000</td>\n",
       "      <td>0.000000</td>\n",
       "      <td>1.000000</td>\n",
       "      <td>0.000000</td>\n",
       "      <td>0.000000</td>\n",
       "      <td>0.00000</td>\n",
       "      <td>0.000000</td>\n",
       "    </tr>\n",
       "    <tr>\n",
       "      <th>max</th>\n",
       "      <td>74000.000000</td>\n",
       "      <td>2020.000000</td>\n",
       "      <td>999999.000000</td>\n",
       "      <td>4.000000</td>\n",
       "      <td>1.000000</td>\n",
       "      <td>1.000000</td>\n",
       "      <td>1.000000</td>\n",
       "      <td>1.000000</td>\n",
       "      <td>1.000000</td>\n",
       "      <td>1.000000</td>\n",
       "      <td>1.000000</td>\n",
       "      <td>1.000000</td>\n",
       "      <td>1.000000</td>\n",
       "      <td>1.000000</td>\n",
       "      <td>1.000000</td>\n",
       "      <td>1.000000</td>\n",
       "      <td>1.000000</td>\n",
       "      <td>1.000000</td>\n",
       "      <td>1.00000</td>\n",
       "      <td>1.000000</td>\n",
       "    </tr>\n",
       "  </tbody>\n",
       "</table>\n",
       "</div>"
      ],
      "text/plain": [
       "              price         year        mileage  AGE_IN_YEARS    chevrolet  \\\n",
       "count   2153.000000  2153.000000    2153.000000   2153.000000  2153.000000   \n",
       "mean   19298.254529  2017.070135   48829.217836      2.432420     0.122620   \n",
       "std    11904.200099     2.859018   47495.898243      1.102215     0.328076   \n",
       "min       25.000000  1973.000000       0.000000      1.000000     0.000000   \n",
       "25%    10800.000000  2016.000000   21034.000000      1.000000     0.000000   \n",
       "50%    17300.000000  2018.000000   34922.000000      2.000000     0.000000   \n",
       "75%    26000.000000  2019.000000   59798.000000      3.000000     0.000000   \n",
       "max    74000.000000  2020.000000  999999.000000      4.000000     1.000000   \n",
       "\n",
       "             dodge          gmc         jeep       nissan  salvage insurance  \\\n",
       "count  2153.000000  2153.000000  2153.000000  2153.000000        2153.000000   \n",
       "mean      0.180678     0.018579     0.010218     0.138412           0.044124   \n",
       "std       0.384841     0.135063     0.100591     0.345412           0.205419   \n",
       "min       0.000000     0.000000     0.000000     0.000000           0.000000   \n",
       "25%       0.000000     0.000000     0.000000     0.000000           0.000000   \n",
       "50%       0.000000     0.000000     0.000000     0.000000           0.000000   \n",
       "75%       0.000000     0.000000     0.000000     0.000000           0.000000   \n",
       "max       1.000000     1.000000     1.000000     1.000000           1.000000   \n",
       "\n",
       "             black         blue         gray     no_color       silver  \\\n",
       "count  2153.000000  2153.000000  2153.000000  2153.000000  2153.000000   \n",
       "mean      0.222945     0.061310     0.165815     0.026010     0.130516   \n",
       "std       0.416318     0.239953     0.372001     0.159203     0.336948   \n",
       "min       0.000000     0.000000     0.000000     0.000000     0.000000   \n",
       "25%       0.000000     0.000000     0.000000     0.000000     0.000000   \n",
       "50%       0.000000     0.000000     0.000000     0.000000     0.000000   \n",
       "75%       0.000000     0.000000     0.000000     0.000000     0.000000   \n",
       "max       1.000000     1.000000     1.000000     1.000000     1.000000   \n",
       "\n",
       "             white          Goa           MP  Maharashtra           UP  \n",
       "count  2153.000000  2153.000000  2153.000000   2153.00000  2153.000000  \n",
       "mean      0.312123     0.191825     0.210404      0.19647     0.212726  \n",
       "std       0.463467     0.393828     0.407690      0.39742     0.409331  \n",
       "min       0.000000     0.000000     0.000000      0.00000     0.000000  \n",
       "25%       0.000000     0.000000     0.000000      0.00000     0.000000  \n",
       "50%       0.000000     0.000000     0.000000      0.00000     0.000000  \n",
       "75%       1.000000     0.000000     0.000000      0.00000     0.000000  \n",
       "max       1.000000     1.000000     1.000000      1.00000     1.000000  "
      ]
     },
     "execution_count": 7,
     "metadata": {},
     "output_type": "execute_result"
    }
   ],
   "source": [
    "data.describe()"
   ]
  },
  {
   "cell_type": "markdown",
   "metadata": {
    "id": "-ZcVR3RC9jU4"
   },
   "source": [
    "We will use the `train_test_split` function to split the data into TRAIN and TEST <br>\n",
    "Here we import it from SKLEARN"
   ]
  },
  {
   "cell_type": "code",
   "execution_count": 8,
   "metadata": {
    "id": "di5Jh08_9jU4"
   },
   "outputs": [],
   "source": [
    "from sklearn.model_selection import train_test_split"
   ]
  },
  {
   "cell_type": "markdown",
   "metadata": {
    "id": "EaCNqptBnrts"
   },
   "source": [
    "If you don't know about Feature transformation, it is highly recommended to go through this blog before proceding<br>\n",
    "<a href=\"https://towardsdatascience.com/top-3-methods-for-handling-skewed-data-1334e0debf45\">Top 3 Methods for Handling Skewed data</a>\n",
    "#### TLDR; We wish that all our features have a normal distribution"
   ]
  },
  {
   "cell_type": "markdown",
   "metadata": {
    "id": "ll5Q2xCm9jU7"
   },
   "source": [
    "Let us look at the Distribution of `Price` column "
   ]
  },
  {
   "cell_type": "code",
   "execution_count": 9,
   "metadata": {
    "id": "tHbZh4X7nrts"
   },
   "outputs": [
    {
     "data": {
      "image/png": "[encoded data removed]",
      "text/plain": [
       "<Figure size 432x288 with 1 Axes>"
      ]
     },
     "metadata": {
      "needs_background": "light"
     },
     "output_type": "display_data"
    }
   ],
   "source": [
    "sns.histplot(x=data['price'], kde=True);"
   ]
  },
  {
   "cell_type": "code",
   "execution_count": 11,
   "metadata": {},
   "outputs": [
    {
     "data": {
      "text/plain": [
       "0.9370149624905348"
      ]
     },
     "execution_count": 11,
     "metadata": {},
     "output_type": "execute_result"
    }
   ],
   "source": [
    "data['price'].skew()"
   ]
  },
  {
   "cell_type": "code",
   "execution_count": null,
   "metadata": {},
   "outputs": [],
   "source": []
  },
  {
   "cell_type": "markdown",
   "metadata": {
    "id": "jn6ZMkZd9jU_"
   },
   "source": [
    "It is RIGHT-SKEWED <br>\n",
    "We will either use log transform or sqrt transform"
   ]
  },
  {
   "cell_type": "code",
   "execution_count": 12,
   "metadata": {
    "id": "nC13GB_f9jU_"
   },
   "outputs": [
    {
     "data": {
      "image/png": "[encoded data removed]",
      "text/plain": [
       "<Figure size 432x288 with 1 Axes>"
      ]
     },
     "metadata": {
      "needs_background": "light"
     },
     "output_type": "display_data"
    },
    {
     "name": "stdout",
     "output_type": "stream",
     "text": [
      "-2.7563348651437454\n"
     ]
    },
    {
     "data": {
      "image/png": "[encoded data removed]",
      "text/plain": [
       "<Figure size 432x288 with 1 Axes>"
      ]
     },
     "metadata": {
      "needs_background": "light"
     },
     "output_type": "display_data"
    }
   ],
   "source": [
    "# WE HAVE WRITTEN THE CODE FOR PLOTTING THE HISTOGRAM FOR THE LOG-TRANSFORMED PRICE COLUMN AND SQRT TRANSFORMED SQRT COLUMN.\n",
    "sns.histplot(x=np.sqrt(data['price']), kde=True);\n",
    "plt.title('SQRT TRANSFORM');\n",
    "plt.show()\n",
    "print(np.log(data['price']).skew())\n",
    "sns.histplot(np.log(data['price']), kde=True);\n",
    "plt.title('LOG TRANSFORM');\n",
    "plt.show()"
   ]
  },
  {
   "cell_type": "code",
   "execution_count": 13,
   "metadata": {},
   "outputs": [
    {
     "data": {
      "text/plain": [
       "<AxesSubplot:ylabel='Count'>"
      ]
     },
     "execution_count": 13,
     "metadata": {},
     "output_type": "execute_result"
    },
    {
     "data": {
      "image/png": "[encoded data removed]",
      "text/plain": [
       "<Figure size 432x288 with 1 Axes>"
      ]
     },
     "metadata": {
      "needs_background": "light"
     },
     "output_type": "display_data"
    }
   ],
   "source": [
    "#trying box-cox transformation\n",
    "from scipy import stats\n",
    "price_boxcox = stats.boxcox(data['price'])[0]\n",
    "pd.Series(price_boxcox).skew()\n",
    "sns.histplot(price_boxcox, kde = True)"
   ]
  },
  {
   "cell_type": "markdown",
   "metadata": {
    "id": "CIxuDmN89jVC"
   },
   "source": [
    "Clearly SQRT Transform is Better"
   ]
  },
  {
   "cell_type": "code",
   "execution_count": 14,
   "metadata": {
    "id": "ZEDTdMPP9jVC"
   },
   "outputs": [],
   "source": [
    "# WE CONVERT PRICES TO THEIR SQRT AND ROUND OFF DECIMALS TO TWO\n",
    "data['price'] = round(np.sqrt(data['price']), 2)"
   ]
  },
  {
   "cell_type": "code",
   "execution_count": 15,
   "metadata": {
    "id": "DsRrd_c79jVG"
   },
   "outputs": [],
   "source": [
    "# HERE WE SPLIT DATA INTO TRAIN TEST SPLIT\n",
    "X_train, X_test, y_train, y_test = train_test_split(data.drop('price',axis = 1), data['price'], \n",
    "                                                    test_size = 0.2, random_state = 1)"
   ]
  },
  {
   "cell_type": "code",
   "execution_count": 16,
   "metadata": {
    "id": "66Pr1G_89jVI"
   },
   "outputs": [
    {
     "name": "stdout",
     "output_type": "stream",
     "text": [
      "(1722, 19)\n",
      "(431, 19)\n",
      "(1722,)\n",
      "(431,)\n",
      "\n",
      "Expected shapes\n",
      "(1722, 19)\n",
      "(431, 19)\n",
      "(1722,)\n",
      "(431,)\n",
      "\n",
      "Verify if they are matching\n"
     ]
    }
   ],
   "source": [
    "# LET US PRINT THE SHAPES\n",
    "# Start Code\n",
    "print(X_train.shape) # Shape of X_train\n",
    "print(X_test.shape) # Shape of X_test\n",
    "print(y_train.shape) # Shape of y_train\n",
    "print(y_test.shape) # Shape of y_test\n",
    "# End Code\n",
    "\n",
    "\n",
    "print('\\nExpected shapes')\n",
    "print((1722, 19))\n",
    "print((431, 19))\n",
    "print((1722,))\n",
    "print((431,))\n",
    "print('\\nVerify if they are matching')"
   ]
  },
  {
   "cell_type": "markdown",
   "metadata": {
    "id": "MTbjksBn9jVK"
   },
   "source": [
    "<!-- NOW <br>\n",
    "LET US APPLY LINEAR REGRESSION ON THE DATA, THIS TIME WE WILL IMPORT IT FROM SKLEARN <br> -->\n",
    "### Linear Regression"
   ]
  },
  {
   "cell_type": "code",
   "execution_count": 17,
   "metadata": {
    "id": "8sGwqgNznrtu"
   },
   "outputs": [],
   "source": [
    "from sklearn.linear_model import LinearRegression\n",
    "from sklearn.metrics import mean_squared_error, mean_absolute_error"
   ]
  },
  {
   "cell_type": "code",
   "execution_count": 21,
   "metadata": {
    "id": "Qza5_BMn9jVK"
   },
   "outputs": [
    {
     "name": "stdout",
     "output_type": "stream",
     "text": [
      "Linear Regression Training mean_square_error is 90997459.24037957\n",
      "Linear Regression Testing mean_square_error is 93998879.06677808\n",
      "Linear Regression Training mean_absolute_error is 6864.980505017775\n",
      "Linear Regression testing mean absolute error is 6926.987292556891\n",
      "\n",
      "\n",
      "The correct values are :\n",
      "Linear Regression Training mean_square_error is 90997459.24037895\n",
      "Linear Regression Testing mean_square_error is 93998879.06677727\n",
      "Linear Regression Training mean_absolute_error is 6864.98050501778\n",
      "Linear Regression Testing mean_absolute_error is 6926.987292556893\n",
      "\n",
      "Please verify if you have got the same values\n"
     ]
    }
   ],
   "source": [
    "# INITIALIZE LINEAR REGRESSION WITH ALL DEFAULT PARAMETERS as Linreg\n",
    "# Start code\n",
    "Linreg = LinearRegression()\n",
    "# End code\n",
    "\n",
    "\n",
    "# FIT the model on the training data i.e. (X_train, y_train)\n",
    "# Start Code\n",
    "Linreg.fit(X_train, y_train)\n",
    "# End Code\n",
    "\n",
    "\n",
    "# FIND TEST ERROR AND TRAIN ERROR WITH THE METRICS IMPORTED ABOVE\n",
    "# NOTE THAT WE HAVE SQUARED BACK THE VALUES AS WE ARE PREDICTING PRICES NOT THEIR SQUARE ROOT\n",
    "print(\"Linear Regression Training mean_square_error is \" + str(mean_squared_error(np.square(y_train), np.square(Linreg.predict(X_train)))))\n",
    "print(\"Linear Regression Testing mean_square_error is \" + str(mean_squared_error(np.square(y_test), np.square(Linreg.predict(X_test)))))\n",
    "\n",
    "\n",
    "# WRITE CODE FOR MEAN ABSOLUTE ERROR\n",
    "# Start code\n",
    "\n",
    "print(f\"Linear Regression Training mean_absolute_error is {mean_absolute_error(np.square(y_train), np.square(Linreg.predict(X_train)))}\")\n",
    "print(f\"Linear Regression testing mean absolute error is {mean_absolute_error(np.square(y_test), np.square(Linreg.predict(X_test)))}\")\n",
    "# End code\n",
    "\n",
    "\n",
    "print(\"\\n\")\n",
    "print(\"The correct values are :\")\n",
    "\n",
    "print('Linear Regression Training mean_square_error is 90997459.24037895')\n",
    "print('Linear Regression Testing mean_square_error is 93998879.06677727')\n",
    "print('Linear Regression Training mean_absolute_error is 6864.98050501778')\n",
    "print('Linear Regression Testing mean_absolute_error is 6926.987292556893')\n",
    "\n",
    "print(\"\\nPlease verify if you have got the same values\")"
   ]
  },
  {
   "cell_type": "markdown",
   "metadata": {
    "id": "sUEvPws29jVW"
   },
   "source": [
    "### Now for CLASSIFICATION models, we need to convert the target variable into different classes"
   ]
  },
  {
   "cell_type": "code",
   "execution_count": 22,
   "metadata": {
    "id": "5EwOs0dv9jVX"
   },
   "outputs": [
    {
     "data": {
      "text/plain": [
       "count     2153.000000\n",
       "mean     19298.257905\n",
       "std      11904.254199\n",
       "min         25.000000\n",
       "25%      10799.366400\n",
       "50%      17300.140900\n",
       "75%      26001.562500\n",
       "max      74000.320900\n",
       "Name: price, dtype: float64"
      ]
     },
     "execution_count": 22,
     "metadata": {},
     "output_type": "execute_result"
    }
   ],
   "source": [
    "# WE FIND THE MEDIAN\n",
    "np.square(data['price']).describe()"
   ]
  },
  {
   "cell_type": "markdown",
   "metadata": {
    "id": "SxdlNAd49jVa"
   },
   "source": [
    "<!-- WE WILL DO BINARY CLASSIFICATION AND DIVIDE THE DATA EQUALLY(ALMOST) INTO 1's AND 0's <br>\n",
    "WE HAVE CHOSEN THRESHOLD AT price = 20000 -->\n",
    "##### We will do Binary Classification (i.e. Classify into 2 classes) and divide the data equally (ALMOST) into 1's and 0's <br>\n",
    "##### We have chosen threshold at PRICE = 20000"
   ]
  },
  {
   "cell_type": "code",
   "execution_count": 23,
   "metadata": {
    "id": "waGj0igv9jVa"
   },
   "outputs": [],
   "source": [
    "data.loc[np.square(data['price']) < 20000, 'price'] = 0\n",
    "data.loc[np.square(data['price']) >= 20000, 'price'] = 1"
   ]
  },
  {
   "cell_type": "code",
   "execution_count": 24,
   "metadata": {
    "id": "G4pCJ7pw9jVc"
   },
   "outputs": [
    {
     "data": {
      "text/html": [
       "<div>\n",
       "<style scoped>\n",
       "    .dataframe tbody tr th:only-of-type {\n",
       "        vertical-align: middle;\n",
       "    }\n",
       "\n",
       "    .dataframe tbody tr th {\n",
       "        vertical-align: top;\n",
       "    }\n",
       "\n",
       "    .dataframe thead th {\n",
       "        text-align: right;\n",
       "    }\n",
       "</style>\n",
       "<table border=\"1\" class=\"dataframe\">\n",
       "  <thead>\n",
       "    <tr style=\"text-align: right;\">\n",
       "      <th></th>\n",
       "      <th>price</th>\n",
       "      <th>year</th>\n",
       "      <th>mileage</th>\n",
       "      <th>AGE_IN_YEARS</th>\n",
       "      <th>chevrolet</th>\n",
       "      <th>dodge</th>\n",
       "      <th>gmc</th>\n",
       "      <th>jeep</th>\n",
       "      <th>nissan</th>\n",
       "      <th>salvage insurance</th>\n",
       "      <th>black</th>\n",
       "      <th>blue</th>\n",
       "      <th>gray</th>\n",
       "      <th>no_color</th>\n",
       "      <th>silver</th>\n",
       "      <th>white</th>\n",
       "      <th>Goa</th>\n",
       "      <th>MP</th>\n",
       "      <th>Maharashtra</th>\n",
       "      <th>UP</th>\n",
       "    </tr>\n",
       "  </thead>\n",
       "  <tbody>\n",
       "    <tr>\n",
       "      <th>0</th>\n",
       "      <td>0.0</td>\n",
       "      <td>2011</td>\n",
       "      <td>190552.0</td>\n",
       "      <td>3</td>\n",
       "      <td>0</td>\n",
       "      <td>0</td>\n",
       "      <td>0</td>\n",
       "      <td>0</td>\n",
       "      <td>0</td>\n",
       "      <td>0</td>\n",
       "      <td>0</td>\n",
       "      <td>0</td>\n",
       "      <td>0</td>\n",
       "      <td>0</td>\n",
       "      <td>1</td>\n",
       "      <td>0</td>\n",
       "      <td>0</td>\n",
       "      <td>0</td>\n",
       "      <td>0</td>\n",
       "      <td>1</td>\n",
       "    </tr>\n",
       "    <tr>\n",
       "      <th>1</th>\n",
       "      <td>0.0</td>\n",
       "      <td>2018</td>\n",
       "      <td>39590.0</td>\n",
       "      <td>2</td>\n",
       "      <td>0</td>\n",
       "      <td>1</td>\n",
       "      <td>0</td>\n",
       "      <td>0</td>\n",
       "      <td>0</td>\n",
       "      <td>0</td>\n",
       "      <td>0</td>\n",
       "      <td>0</td>\n",
       "      <td>0</td>\n",
       "      <td>0</td>\n",
       "      <td>1</td>\n",
       "      <td>0</td>\n",
       "      <td>0</td>\n",
       "      <td>1</td>\n",
       "      <td>0</td>\n",
       "      <td>0</td>\n",
       "    </tr>\n",
       "    <tr>\n",
       "      <th>2</th>\n",
       "      <td>1.0</td>\n",
       "      <td>2014</td>\n",
       "      <td>64146.0</td>\n",
       "      <td>2</td>\n",
       "      <td>0</td>\n",
       "      <td>0</td>\n",
       "      <td>0</td>\n",
       "      <td>0</td>\n",
       "      <td>0</td>\n",
       "      <td>0</td>\n",
       "      <td>0</td>\n",
       "      <td>1</td>\n",
       "      <td>0</td>\n",
       "      <td>0</td>\n",
       "      <td>0</td>\n",
       "      <td>0</td>\n",
       "      <td>0</td>\n",
       "      <td>0</td>\n",
       "      <td>0</td>\n",
       "      <td>1</td>\n",
       "    </tr>\n",
       "    <tr>\n",
       "      <th>3</th>\n",
       "      <td>1.0</td>\n",
       "      <td>2018</td>\n",
       "      <td>6654.0</td>\n",
       "      <td>3</td>\n",
       "      <td>1</td>\n",
       "      <td>0</td>\n",
       "      <td>0</td>\n",
       "      <td>0</td>\n",
       "      <td>0</td>\n",
       "      <td>0</td>\n",
       "      <td>0</td>\n",
       "      <td>0</td>\n",
       "      <td>0</td>\n",
       "      <td>0</td>\n",
       "      <td>0</td>\n",
       "      <td>0</td>\n",
       "      <td>0</td>\n",
       "      <td>0</td>\n",
       "      <td>1</td>\n",
       "      <td>0</td>\n",
       "    </tr>\n",
       "    <tr>\n",
       "      <th>4</th>\n",
       "      <td>0.0</td>\n",
       "      <td>2018</td>\n",
       "      <td>45561.0</td>\n",
       "      <td>1</td>\n",
       "      <td>0</td>\n",
       "      <td>1</td>\n",
       "      <td>0</td>\n",
       "      <td>0</td>\n",
       "      <td>0</td>\n",
       "      <td>0</td>\n",
       "      <td>0</td>\n",
       "      <td>0</td>\n",
       "      <td>0</td>\n",
       "      <td>0</td>\n",
       "      <td>0</td>\n",
       "      <td>1</td>\n",
       "      <td>0</td>\n",
       "      <td>0</td>\n",
       "      <td>0</td>\n",
       "      <td>1</td>\n",
       "    </tr>\n",
       "  </tbody>\n",
       "</table>\n",
       "</div>"
      ],
      "text/plain": [
       "   price  year   mileage  AGE_IN_YEARS  chevrolet  dodge  gmc  jeep  nissan  \\\n",
       "0    0.0  2011  190552.0             3          0      0    0     0       0   \n",
       "1    0.0  2018   39590.0             2          0      1    0     0       0   \n",
       "2    1.0  2014   64146.0             2          0      0    0     0       0   \n",
       "3    1.0  2018    6654.0             3          1      0    0     0       0   \n",
       "4    0.0  2018   45561.0             1          0      1    0     0       0   \n",
       "\n",
       "   salvage insurance  black  blue  gray  no_color  silver  white  Goa  MP  \\\n",
       "0                  0      0     0     0         0       1      0    0   0   \n",
       "1                  0      0     0     0         0       1      0    0   1   \n",
       "2                  0      0     1     0         0       0      0    0   0   \n",
       "3                  0      0     0     0         0       0      0    0   0   \n",
       "4                  0      0     0     0         0       0      1    0   0   \n",
       "\n",
       "   Maharashtra  UP  \n",
       "0            0   1  \n",
       "1            0   0  \n",
       "2            0   1  \n",
       "3            1   0  \n",
       "4            0   1  "
      ]
     },
     "execution_count": 24,
     "metadata": {},
     "output_type": "execute_result"
    }
   ],
   "source": [
    "# VIEWING THE DATA ONCE\n",
    "# Start code\n",
    "data.head()\n",
    "# End code"
   ]
  },
  {
   "cell_type": "code",
   "execution_count": 25,
   "metadata": {
    "id": "no82fZ4Y9jVf"
   },
   "outputs": [],
   "source": [
    "X_train, X_test, y_train, y_test = train_test_split(data.drop('price',axis = 1), data['price'], \n",
    "                                                    test_size = 0.2,random_state = 1)"
   ]
  },
  {
   "cell_type": "markdown",
   "metadata": {
    "id": "F7c7s6Tinrtw"
   },
   "source": [
    "### Logistic Regression"
   ]
  },
  {
   "cell_type": "code",
   "execution_count": 26,
   "metadata": {
    "id": "CWKZZWms9jVh"
   },
   "outputs": [],
   "source": [
    "from sklearn.linear_model import LogisticRegression\n",
    "from sklearn.metrics import accuracy_score"
   ]
  },
  {
   "cell_type": "markdown",
   "metadata": {
    "id": "MLEeZkHWnrtw"
   },
   "source": [
    "#### Write Code here and find the Accuracy for LOGISTIC REGRESSION"
   ]
  },
  {
   "cell_type": "code",
   "execution_count": 28,
   "metadata": {
    "id": "mWkYGoJZ9jVj"
   },
   "outputs": [
    {
     "name": "stdout",
     "output_type": "stream",
     "text": [
      "Logistic Regression Training accuracy score is 0.7264808362369338\n",
      "Logistic Regression Testing Accuracy Score is 0.7192575406032483\n",
      "\n",
      "\n",
      "The correct values are :\n",
      "Logistic Regression Training Accuracy 0.7264808362369338\n",
      "Logistic Regression Testing Accuracy 0.7192575406032483\n",
      "\n",
      "Please verify if you have got the same values\n"
     ]
    }
   ],
   "source": [
    "# INITIALIZE Logistic Regression BY TAKING solver as 'lbfgs', max_iter as 2000, random_state as 1 \n",
    "# START CODE\n",
    "Logreg = LogisticRegression(max_iter = 2000, random_state = 1, solver = 'lbfgs')\n",
    "# END CODE\n",
    "\n",
    " \n",
    "# FIT Logistic Regression ON TRAINING DATA i.e. (X_train, y_train)\n",
    "# START CODE\n",
    "Logreg.fit(X_train, y_train)\n",
    "# END CODE\n",
    "\n",
    "\n",
    "# Find the Training and Testing Error using the accuracy_score function imported above\n",
    "# START CODE\n",
    "print(f\"Logistic Regression Training accuracy score is {accuracy_score(y_train, Logreg.predict(X_train))}\")\n",
    "print(f\"Logistic Regression Testing Accuracy Score is {accuracy_score(y_test, Logreg.predict(X_test))}\")\n",
    "# END CODE\n",
    "\n",
    "\n",
    "print(\"\\n\")\n",
    "print(\"The correct values are :\")\n",
    "\n",
    "print(\"Logistic Regression Training Accuracy 0.7264808362369338\")\n",
    "print(\"Logistic Regression Testing Accuracy 0.7192575406032483\")\n",
    "\n",
    "print(\"\\nPlease verify if you have got the same values\")"
   ]
  },
  {
   "cell_type": "code",
   "execution_count": null,
   "metadata": {
    "id": "Jjm_yyB9nrtx"
   },
   "outputs": [],
   "source": []
  }
 ],
 "metadata": {
  "colab": {
   "collapsed_sections": [],
   "name": "Ungraded Week 2.ipynb",
   "provenance": []
  },
  "kernelspec": {
   "display_name": "Python 3",
   "language": "python",
   "name": "python3"
  },
  "language_info": {
   "codemirror_mode": {
    "name": "ipython",
    "version": 3
   },
   "file_extension": ".py",
   "mimetype": "text/x-python",
   "name": "python",
   "nbconvert_exporter": "python",
   "pygments_lexer": "ipython3",
   "version": "3.8.5"
  }
 },
 "nbformat": 4,
 "nbformat_minor": 1
}
